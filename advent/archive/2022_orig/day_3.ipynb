{
 "cells": [
  {
   "cell_type": "code",
   "execution_count": 1,
   "id": "41aec456-4a02-47f0-98b8-fb8039a344db",
   "metadata": {},
   "outputs": [],
   "source": [
    "from pathlib import Path\n",
    "from typing import Literal\n",
    "\n",
    "day = 3\n",
    "input_file: Path = Path(\"input\") / (f'day_{day}' + \".txt\")"
   ]
  },
  {
   "cell_type": "code",
   "execution_count": 2,
   "id": "5b24255a-4d49-4a1d-baa7-56747dd61490",
   "metadata": {},
   "outputs": [],
   "source": [
    "inputs = input_file.read_text().splitlines()"
   ]
  },
  {
   "cell_type": "code",
   "execution_count": 4,
   "id": "0e1d734c-c5f5-4946-8c18-310f0817aae9",
   "metadata": {},
   "outputs": [],
   "source": [
    "for line in inputs:\n",
    "    assert(len(line) % 2 == 0)"
   ]
  },
  {
   "cell_type": "code",
   "execution_count": 42,
   "id": "206e81c9-a124-48b0-b83e-b996e90a05e8",
   "metadata": {},
   "outputs": [],
   "source": [
    "from string import ascii_lowercase as alc\n",
    "from string import ascii_uppercase as auc\n",
    "\n",
    "priority_map = {l : idx+1 for idx, l in enumerate(alc + auc)}"
   ]
  },
  {
   "cell_type": "code",
   "execution_count": 47,
   "id": "8fdb2860-01bd-46f9-a677-d93bb87ea2d1",
   "metadata": {},
   "outputs": [
    {
     "name": "stdout",
     "output_type": "stream",
     "text": [
      "Part 1: 8039\n"
     ]
    }
   ],
   "source": [
    "priorities = []\n",
    "\n",
    "for line in inputs:\n",
    "    assert(len(line) % 2 == 0)\n",
    "    \n",
    "    # split line into two packs, check that sum equals original\n",
    "    idx_mid = int(len(line)/2)\n",
    "    pack1 = line[0:idx_mid]\n",
    "    pack2 = line[idx_mid:]\n",
    "    assert(pack1 + pack2 == line)\n",
    "\n",
    "    # get intersection of two packs, should only be a single value\n",
    "    shared_set = list(set(pack1).intersection(pack2))\n",
    "    assert(len(shared_set) == 1)\n",
    "    shared_value = shared_set[0]\n",
    "    \n",
    "    # map that value to a priority level\n",
    "    priorities.append(priority_map[shared_value])\n",
    "\n",
    "print(f'Part 1: {sum(priorities)}')"
   ]
  },
  {
   "cell_type": "code",
   "execution_count": 75,
   "id": "3f37a729-2be2-47cb-afb2-82c7a90e22e4",
   "metadata": {},
   "outputs": [
    {
     "name": "stdout",
     "output_type": "stream",
     "text": [
      "Part 2: 2510\n"
     ]
    }
   ],
   "source": [
    "n_group = 3\n",
    "priorities = []\n",
    "# split into groups\n",
    "line2, line1 = [], []\n",
    "for idx in range(len(inputs)):  \n",
    "    if idx % n_group == 0:\n",
    "        # groups.append( tuple( inputs[idx:idx+3] ) )\n",
    "        shared_set = list(set(inputs[idx]).intersection(inputs[idx+1]).intersection(inputs[idx+2]))\n",
    "        assert(len(shared_set) == 1)\n",
    "        priorities.append(priority_map[shared_set[0]])\n",
    "        \n",
    "    else:\n",
    "        pass\n",
    "\n",
    "print(f'Part 2: {sum(priorities)}')"
   ]
  }
 ],
 "metadata": {
  "kernelspec": {
   "display_name": "Python 3 (ipykernel)",
   "language": "python",
   "name": "python3"
  },
  "language_info": {
   "codemirror_mode": {
    "name": "ipython",
    "version": 3
   },
   "file_extension": ".py",
   "mimetype": "text/x-python",
   "name": "python",
   "nbconvert_exporter": "python",
   "pygments_lexer": "ipython3",
   "version": "3.11.0"
  }
 },
 "nbformat": 4,
 "nbformat_minor": 5
}
