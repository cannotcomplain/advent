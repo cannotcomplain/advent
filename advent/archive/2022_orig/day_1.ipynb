{
 "cells": [
  {
   "cell_type": "code",
   "execution_count": 70,
   "id": "8d6cfb77-0649-4675-9b3b-1a61901449b7",
   "metadata": {},
   "outputs": [],
   "source": [
    "from pathlib import Path\n",
    "day = 1\n",
    "input_file: Path = Path(\"input\") / (f'day_{day}' + \".txt\")"
   ]
  },
  {
   "cell_type": "code",
   "execution_count": 71,
   "id": "81ac0a6d-17c4-4488-b997-f960bdb2cd1c",
   "metadata": {},
   "outputs": [
    {
     "name": "stdout",
     "output_type": "stream",
     "text": [
      "Part 1: 66306\n",
      "Part 2: 195292\n"
     ]
    }
   ],
   "source": [
    "inputs = input_file.read_text().splitlines()\n",
    "\n",
    "calorie_count, elves_count = 0, []\n",
    "\n",
    "with open(input_file, 'r') as f:\n",
    "    for line in f:\n",
    "        if line != '\\n':\n",
    "            calorie_count += int(line)\n",
    "        else:\n",
    "            elves_count.append(calorie_count)\n",
    "            calorie_count = 0\n",
    "        \n",
    "print(f'Part 1: {max(elves_count)}')\n",
    "\n",
    "elves_count.sort(reverse = True)\n",
    "print(f'Part 2: {sum(elves_count[0:3])}')"
   ]
  }
 ],
 "metadata": {
  "kernelspec": {
   "display_name": "Python 3 (ipykernel)",
   "language": "python",
   "name": "python3"
  },
  "language_info": {
   "codemirror_mode": {
    "name": "ipython",
    "version": 3
   },
   "file_extension": ".py",
   "mimetype": "text/x-python",
   "name": "python",
   "nbconvert_exporter": "python",
   "pygments_lexer": "ipython3",
   "version": "3.11.0"
  }
 },
 "nbformat": 4,
 "nbformat_minor": 5
}
