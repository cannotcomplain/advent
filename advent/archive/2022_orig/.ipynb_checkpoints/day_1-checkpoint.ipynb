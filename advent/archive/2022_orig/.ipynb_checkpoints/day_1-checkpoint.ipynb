{
 "cells": [
  {
   "cell_type": "code",
   "execution_count": 51,
   "id": "8d6cfb77-0649-4675-9b3b-1a61901449b7",
   "metadata": {},
   "outputs": [],
   "source": [
    "from pathlib import Path\n",
    "day = 1\n",
    "input_file: Path = Path(\"input\") / (f'day_{day}' + \".txt\")"
   ]
  },
  {
   "cell_type": "code",
   "execution_count": 52,
   "id": "0ae869a2-e002-4529-b0cc-02c5616089de",
   "metadata": {},
   "outputs": [],
   "source": [
    "inputs = input_file.read_text().splitlines()\n",
    " \n",
    "calories = [int(x) if x != '' else 0 for x in inputs]            "
   ]
  },
  {
   "cell_type": "code",
   "execution_count": 53,
   "id": "e5d785ac-a8e0-4286-8a8d-32103055957f",
   "metadata": {},
   "outputs": [],
   "source": [
    "calorie_count = 0\n",
    "counts = []\n",
    "\n",
    "for line in calories:\n",
    "    if line > 0:\n",
    "        calorie_count += line\n",
    "    else:\n",
    "        # print(f'Count at: {calorie_count}')\n",
    "        # print(f'Max at: {max_calories}')\n",
    "        # if calorie_count > max_calories:\n",
    "        #     # print('Updating max.')\n",
    "        #     max_calories = calorie_count\n",
    "        # # else:\n",
    "            # print('Not updating max.')\n",
    "        counts.append(calorie_count)\n",
    "        calorie_count = 0"
   ]
  },
  {
   "cell_type": "code",
   "execution_count": 54,
   "id": "370323ad-6626-4e6c-9b40-957c312a9486",
   "metadata": {},
   "outputs": [
    {
     "name": "stdout",
     "output_type": "stream",
     "text": [
      "Part 1: 66306\n"
     ]
    }
   ],
   "source": [
    "print(f'Part 1: {max(counts)}')"
   ]
  },
  {
   "cell_type": "code",
   "execution_count": 55,
   "id": "0d953060-9247-473d-b6c7-4d1995cdcd47",
   "metadata": {},
   "outputs": [
    {
     "name": "stdout",
     "output_type": "stream",
     "text": [
      "Part 2: 195292\n"
     ]
    }
   ],
   "source": [
    "counts.sort(reverse = True)\n",
    "print(f'Part 2: {sum(counts[0:3])}')"
   ]
  }
 ],
 "metadata": {
  "kernelspec": {
   "display_name": "Python 3 (ipykernel)",
   "language": "python",
   "name": "python3"
  },
  "language_info": {
   "codemirror_mode": {
    "name": "ipython",
    "version": 3
   },
   "file_extension": ".py",
   "mimetype": "text/x-python",
   "name": "python",
   "nbconvert_exporter": "python",
   "pygments_lexer": "ipython3",
   "version": "3.11.0"
  }
 },
 "nbformat": 4,
 "nbformat_minor": 5
}
