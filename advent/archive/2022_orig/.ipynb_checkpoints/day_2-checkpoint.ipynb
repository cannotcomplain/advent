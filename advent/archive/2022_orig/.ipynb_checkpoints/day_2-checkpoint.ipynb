{
 "cells": [
  {
   "cell_type": "code",
   "execution_count": 4,
   "id": "e1d6cb5e-8b62-4c0e-9e3d-5fa0b0713280",
   "metadata": {},
   "outputs": [],
   "source": [
    "from pathlib import Path\n",
    "from typing import Literal\n",
    "\n",
    "day = 2\n",
    "input_file: Path = Path(\"input\") / (f'day_{day}' + \".txt\")"
   ]
  },
  {
   "cell_type": "code",
   "execution_count": 5,
   "id": "e079f276-6d3f-439f-8113-938c2e2886f8",
   "metadata": {},
   "outputs": [],
   "source": [
    "def play(my_choice: Literal['rock', 'paper', 'scissors'],\n",
    "         opponent_choice: Literal['rock', 'paper', 'scissors']):\n",
    "\n",
    "    for choice in [my_choice, opponent_choice]:\n",
    "        if choice not in ['rock', 'paper', 'scissors']:\n",
    "            raise AttributeError(\"Bad choice\")\n",
    "            \n",
    "    if my_choice == opponent_choice:\n",
    "        result = 'tie'\n",
    "    \n",
    "    else:\n",
    "        if my_choice == 'rock':\n",
    "            if opponent_choice == 'scissors':\n",
    "                result = 'win'\n",
    "            elif opponent_choice == 'paper':\n",
    "                result = 'lose'\n",
    "        elif my_choice == 'paper':\n",
    "            if opponent_choice == 'rock':\n",
    "                result = 'win'\n",
    "            elif opponent_choice == 'scissors':\n",
    "                result = 'lose'\n",
    "        elif my_choice == 'scissors':\n",
    "            if opponent_choice == 'paper':\n",
    "                result = 'win'\n",
    "            elif opponent_choice == 'rock':\n",
    "                result = 'lose'\n",
    "        else:\n",
    "            raise AttributeError('My choice is wrong')\n",
    "    \n",
    "    return result\n",
    "\n",
    "def score_play(result: Literal['win', 'lose', 'tie']):\n",
    "    assert (result in ['win', 'lose', 'tie']), 'Result not defined'\n",
    "    \n",
    "    play_score_map = {\n",
    "        'win': 6, \n",
    "        'tie': 3,\n",
    "        'lose': 0,\n",
    "    }\n",
    "        \n",
    "    return play_score_map[result]\n",
    "\n",
    "def score_choice(choice: Literal['rock', 'paper', 'scissors']):\n",
    "    assert (choice in ['rock', 'paper', 'scissors']), 'Result not defined'\n",
    "    \n",
    "    play_choice_map = {\n",
    "        'rock': 1,\n",
    "        'paper': 2,\n",
    "        'scissors': 3,\n",
    "    }\n",
    "    \n",
    "    return play_choice_map[choice]\n",
    "\n",
    "\n",
    "def total_score(my_choice: Literal['rock', 'paper', 'scissors'],\n",
    "         opponent_choice: Literal['rock', 'paper', 'scissors']):\n",
    "    \n",
    "    return score_choice(my_choice) + score_play(play(my_choice, opponent_choice))"
   ]
  },
  {
   "cell_type": "code",
   "execution_count": 6,
   "id": "f63605a2-c4e8-4e65-aa73-3ab9f8c6ff84",
   "metadata": {},
   "outputs": [],
   "source": [
    "elf_strategy = {\n",
    "    'A': 'rock', \n",
    "    'B': 'paper', \n",
    "    'C': 'scissors', \n",
    "}\n",
    "\n",
    "my_strategy = {\n",
    "    'X' : 'rock', \n",
    "    'Y' : 'paper', \n",
    "    'Z' : 'scissors',\n",
    "}"
   ]
  },
  {
   "cell_type": "code",
   "execution_count": 7,
   "id": "36de5617-b1e6-4e71-9009-ffd626f573db",
   "metadata": {},
   "outputs": [
    {
     "name": "stdout",
     "output_type": "stream",
     "text": [
      "Part 1: 11906\n"
     ]
    }
   ],
   "source": [
    "score = 0\n",
    "with open(input_file, 'r') as f:\n",
    "    for line in f:\n",
    "        elf_choice, my_choice = line.replace('\\n', '').split(' ')\n",
    "        score += total_score(my_strategy[my_choice], \n",
    "                             elf_strategy[elf_choice])\n",
    "        \n",
    "print(f'Part 1: {score}')"
   ]
  },
  {
   "cell_type": "code",
   "execution_count": 9,
   "id": "6410b774-fb58-476c-82af-ca49d1e9d8bb",
   "metadata": {},
   "outputs": [],
   "source": [
    "def get_my_choice(opponent_choice: Literal['rock', 'paper', 'scissors'],\n",
    "         needed_result: Literal['win', 'tie', 'lose']):\n",
    "            \n",
    "    if needed_result == 'tie':\n",
    "        my_choice = opponent_choice\n",
    "    \n",
    "    else:\n",
    "        if needed_choice == 'win':\n",
    "            if opponent_choice == 'rock':\n",
    "                my_choice = 'paper'\n",
    "            elif opponent_choice == 'paper':\n",
    "                my_choice = 'scissors'\n",
    "            elif opponent_choice == 'scissors':\n",
    "                my_choice = 'rock'\n",
    "        \n",
    "        elif needed_choice == 'lose':\n",
    "            if opponent_choice == 'rock':\n",
    "                my_choice = 'scissors'\n",
    "            elif opponent_choice == 'paper':\n",
    "                my_choice = 'rock'\n",
    "            elif opponent_choice == 'scissors':\n",
    "                my_choice = 'paper'\n",
    "                \n",
    "        else:\n",
    "            raise AttributeError('Needed choice is wrong')\n",
    "    \n",
    "    return result"
   ]
  },
  {
   "cell_type": "code",
   "execution_count": 10,
   "id": "6c8d316e-d5bd-42da-bb52-5919588d9c0e",
   "metadata": {},
   "outputs": [
    {
     "ename": "NameError",
     "evalue": "name 'needed_results' is not defined",
     "output_type": "error",
     "traceback": [
      "\u001b[0;31m---------------------------------------------------------------------------\u001b[0m",
      "\u001b[0;31mNameError\u001b[0m                                 Traceback (most recent call last)",
      "Cell \u001b[0;32mIn[10], line 1\u001b[0m\n\u001b[0;32m----> 1\u001b[0m \u001b[43mget_my_choice\u001b[49m\u001b[43m(\u001b[49m\u001b[38;5;124;43m'\u001b[39;49m\u001b[38;5;124;43mrock\u001b[39;49m\u001b[38;5;124;43m'\u001b[39;49m\u001b[43m,\u001b[49m\u001b[43m \u001b[49m\u001b[38;5;124;43m'\u001b[39;49m\u001b[38;5;124;43mlose\u001b[39;49m\u001b[38;5;124;43m'\u001b[39;49m\u001b[43m)\u001b[49m\n",
      "Cell \u001b[0;32mIn[9], line 4\u001b[0m, in \u001b[0;36mget_my_choice\u001b[0;34m(opponent_choice, needed_result)\u001b[0m\n\u001b[1;32m      1\u001b[0m \u001b[38;5;28;01mdef\u001b[39;00m \u001b[38;5;21mget_my_choice\u001b[39m(opponent_choice: Literal[\u001b[38;5;124m'\u001b[39m\u001b[38;5;124mrock\u001b[39m\u001b[38;5;124m'\u001b[39m, \u001b[38;5;124m'\u001b[39m\u001b[38;5;124mpaper\u001b[39m\u001b[38;5;124m'\u001b[39m, \u001b[38;5;124m'\u001b[39m\u001b[38;5;124mscissors\u001b[39m\u001b[38;5;124m'\u001b[39m],\n\u001b[1;32m      2\u001b[0m          needed_result: Literal[\u001b[38;5;124m'\u001b[39m\u001b[38;5;124mwin\u001b[39m\u001b[38;5;124m'\u001b[39m, \u001b[38;5;124m'\u001b[39m\u001b[38;5;124mtie\u001b[39m\u001b[38;5;124m'\u001b[39m, \u001b[38;5;124m'\u001b[39m\u001b[38;5;124mlose\u001b[39m\u001b[38;5;124m'\u001b[39m]):\n\u001b[0;32m----> 4\u001b[0m     \u001b[38;5;28;01mif\u001b[39;00m \u001b[43mneeded_results\u001b[49m \u001b[38;5;241m==\u001b[39m \u001b[38;5;124m'\u001b[39m\u001b[38;5;124mtie\u001b[39m\u001b[38;5;124m'\u001b[39m:\n\u001b[1;32m      5\u001b[0m         my_choice \u001b[38;5;241m=\u001b[39m opponent_choice\n\u001b[1;32m      7\u001b[0m     \u001b[38;5;28;01melse\u001b[39;00m:\n",
      "\u001b[0;31mNameError\u001b[0m: name 'needed_results' is not defined"
     ]
    }
   ],
   "source": [
    "get_my_choice('rock', 'lose')"
   ]
  },
  {
   "cell_type": "code",
   "execution_count": null,
   "id": "72bf4a99-87d2-4e7d-bf7f-676853ef9184",
   "metadata": {},
   "outputs": [],
   "source": [
    "new_strategy = {\n",
    "    'X' : 'lose', \n",
    "    'Y' : 'tie', \n",
    "    'Z' : 'win',\n",
    "}\n",
    "\n",
    "score = 0\n",
    "with open(input_file, 'r') as f:\n",
    "    for line in f:\n",
    "        elf_choice, my_choice = line.replace('\\n', '').split(' ')\n",
    "        score += total_score(my_strategy[my_choice], \n",
    "                             elf_strategy[elf_choice])\n",
    "        \n",
    "print(f'Part 1: {score}')"
   ]
  }
 ],
 "metadata": {
  "kernelspec": {
   "display_name": "Python 3 (ipykernel)",
   "language": "python",
   "name": "python3"
  },
  "language_info": {
   "codemirror_mode": {
    "name": "ipython",
    "version": 3
   },
   "file_extension": ".py",
   "mimetype": "text/x-python",
   "name": "python",
   "nbconvert_exporter": "python",
   "pygments_lexer": "ipython3",
   "version": "3.11.0"
  }
 },
 "nbformat": 4,
 "nbformat_minor": 5
}
